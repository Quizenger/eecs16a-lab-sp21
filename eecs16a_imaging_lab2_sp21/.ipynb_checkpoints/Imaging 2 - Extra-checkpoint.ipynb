{
 "cells": [
  {
   "cell_type": "code",
   "execution_count": 11,
   "metadata": {},
   "outputs": [],
   "source": [
    "import numpy as np\n",
    "import matplotlib.pyplot as plt\n",
    "sigma = 50\n",
    "height = 32\n",
    "width = 32"
   ]
  },
  {
   "cell_type": "code",
   "execution_count": 17,
   "metadata": {},
   "outputs": [],
   "source": [
    "noise = np.random.randint(-sigma, sigma, size=(height * width, 1))"
   ]
  },
  {
   "cell_type": "code",
   "execution_count": 18,
   "metadata": {},
   "outputs": [
    {
     "data": {
      "text/plain": [
       "array([[ 40],\n",
       "       [ 15],\n",
       "       [-18],\n",
       "       ...,\n",
       "       [ -6],\n",
       "       [ 43],\n",
       "       [  2]])"
      ]
     },
     "execution_count": 18,
     "metadata": {},
     "output_type": "execute_result"
    }
   ],
   "source": [
    "noise"
   ]
  },
  {
   "cell_type": "code",
   "execution_count": 19,
   "metadata": {},
   "outputs": [
    {
     "data": {
      "text/plain": [
       "(array([16, 17, 28, 27, 18, 17, 18, 17, 20, 22, 16, 27, 21, 22, 20, 17, 13,\n",
       "        18, 22, 19, 11, 23, 17, 21, 16, 16, 29, 15, 28, 26, 25, 28, 12, 12,\n",
       "        17, 20, 23, 19, 22, 28, 28, 17, 18, 23, 20, 20, 19, 22, 22, 18, 14],\n",
       "       dtype=int64),\n",
       " array([-50.        , -48.05882353, -46.11764706, -44.17647059,\n",
       "        -42.23529412, -40.29411765, -38.35294118, -36.41176471,\n",
       "        -34.47058824, -32.52941176, -30.58823529, -28.64705882,\n",
       "        -26.70588235, -24.76470588, -22.82352941, -20.88235294,\n",
       "        -18.94117647, -17.        , -15.05882353, -13.11764706,\n",
       "        -11.17647059,  -9.23529412,  -7.29411765,  -5.35294118,\n",
       "         -3.41176471,  -1.47058824,   0.47058824,   2.41176471,\n",
       "          4.35294118,   6.29411765,   8.23529412,  10.17647059,\n",
       "         12.11764706,  14.05882353,  16.        ,  17.94117647,\n",
       "         19.88235294,  21.82352941,  23.76470588,  25.70588235,\n",
       "         27.64705882,  29.58823529,  31.52941176,  33.47058824,\n",
       "         35.41176471,  37.35294118,  39.29411765,  41.23529412,\n",
       "         43.17647059,  45.11764706,  47.05882353,  49.        ]))"
      ]
     },
     "execution_count": 19,
     "metadata": {},
     "output_type": "execute_result"
    }
   ],
   "source": [
    "np.histogram(noise, bins = 51)"
   ]
  },
  {
   "cell_type": "code",
   "execution_count": 20,
   "metadata": {},
   "outputs": [
    {
     "data": {
      "text/plain": [
       "<function matplotlib.pyplot.show(*args, **kw)>"
      ]
     },
     "execution_count": 20,
     "metadata": {},
     "output_type": "execute_result"
    },
    {
     "data": {
      "image/png": "[encoded data removed]",
      "text/plain": [
       "<Figure size 432x288 with 1 Axes>"
      ]
     },
     "metadata": {
      "needs_background": "light"
     },
     "output_type": "display_data"
    }
   ],
   "source": [
    "plt.hist(noise)\n",
    "plt.show"
   ]
  },
  {
   "cell_type": "code",
   "execution_count": 21,
   "metadata": {},
   "outputs": [
    {
     "data": {
      "text/plain": [
       "-0.201171875"
      ]
     },
     "execution_count": 21,
     "metadata": {},
     "output_type": "execute_result"
    }
   ],
   "source": [
    "np.mean(noise)"
   ]
  },
  {
   "cell_type": "code",
   "execution_count": 22,
   "metadata": {},
   "outputs": [],
   "source": [
    "noise2 = np.random.normal(0, sigma, (height*width, 1))"
   ]
  },
  {
   "cell_type": "code",
   "execution_count": 23,
   "metadata": {},
   "outputs": [
    {
     "data": {
      "text/plain": [
       "array([[-38.25454823],\n",
       "       [-79.11414173],\n",
       "       [ -7.04167154],\n",
       "       ...,\n",
       "       [ 13.58736742],\n",
       "       [ 50.39713978],\n",
       "       [ -4.08665686]])"
      ]
     },
     "execution_count": 23,
     "metadata": {},
     "output_type": "execute_result"
    }
   ],
   "source": [
    "noise2"
   ]
  },
  {
   "cell_type": "code",
   "execution_count": 25,
   "metadata": {},
   "outputs": [
    {
     "data": {
      "text/plain": [
       "<function matplotlib.pyplot.show(*args, **kw)>"
      ]
     },
     "execution_count": 25,
     "metadata": {},
     "output_type": "execute_result"
    },
    {
     "data": {
      "image/png": "[encoded data removed]",
      "text/plain": [
       "<Figure size 432x288 with 1 Axes>"
      ]
     },
     "metadata": {
      "needs_background": "light"
     },
     "output_type": "display_data"
    }
   ],
   "source": [
    "plt.hist(noise2, bins = 51)\n",
    "plt.show"
   ]
  },
  {
   "cell_type": "code",
   "execution_count": 39,
   "metadata": {},
   "outputs": [],
   "source": [
    "H = np.eye(16, 16)\n",
    "H_alt = np.vstack((H[::2], H[1::2]))"
   ]
  },
  {
   "cell_type": "code",
   "execution_count": 41,
   "metadata": {},
   "outputs": [
    {
     "data": {
      "text/plain": [
       "<matplotlib.image.AxesImage at 0x2ac62424fc8>"
      ]
     },
     "execution_count": 41,
     "metadata": {},
     "output_type": "execute_result"
    },
    {
     "data": {
      "image/png": "[encoded data removed]",
      "text/plain": [
       "<Figure size 432x288 with 1 Axes>"
      ]
     },
     "metadata": {
      "needs_background": "light"
     },
     "output_type": "display_data"
    }
   ],
   "source": [
    "plt.figure()\n",
    "plt.xticks(np.arange(0, 16, 2))\n",
    "plt.imshow(H_alt, cmap = \"gray\", interpolation = \"nearest\")"
   ]
  },
  {
   "cell_type": "code",
   "execution_count": null,
   "metadata": {},
   "outputs": [],
   "source": []
  }
 ],
 "metadata": {
  "kernelspec": {
   "display_name": "Python 3",
   "language": "python",
   "name": "python3"
  },
  "language_info": {
   "codemirror_mode": {
    "name": "ipython",
    "version": 3
   },
   "file_extension": ".py",
   "mimetype": "text/x-python",
   "name": "python",
   "nbconvert_exporter": "python",
   "pygments_lexer": "ipython3",
   "version": "3.7.6"
  }
 },
 "nbformat": 4,
 "nbformat_minor": 4
}
